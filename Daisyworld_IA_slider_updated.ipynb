{
 "cells": [
  {
   "cell_type": "markdown",
   "id": "0a4b0d3f",
   "metadata": {},
   "source": [
    "## Data Generation"
   ]
  },
  {
   "cell_type": "code",
   "execution_count": 1,
   "id": "0be4bd23",
   "metadata": {},
   "outputs": [],
   "source": [
    "import numpy as np\n",
    "from tqdm import tqdm"
   ]
  },
  {
   "cell_type": "markdown",
   "id": "180fb32f",
   "metadata": {},
   "source": [
    "### Set constants for the computations"
   ]
  },
  {
   "cell_type": "code",
   "execution_count": 2,
   "id": "445c0a10",
   "metadata": {},
   "outputs": [],
   "source": [
    "ar_arr = np.full((10,2), 0.0001)\n",
    "area_list = np.array([0.16, 0.15, 0.14, 0.13, 0.12, 0.10, 0.08, 0.06, 0.04, 0.01]).reshape((10,1))\n",
    "daisy_temp = np.full((10,2), 0.0)\n",
    "ground_temp = np.full((10,1), 0.0)\n",
    "S_list = np.array([417, 406, 386, 356, 318, 271, 218, 160, 113, 73]).reshape((10,1))\n",
    "alb_arr = np.array([0.7, 0.2])\n",
    "alb_g = 0.3\n",
    "left_g = area_list - ar_arr.sum(axis = 1).reshape((10,1))\n",
    "sigma = 5.67*10**(-8)\n",
    "temp_arr = np.full((10,1), 0.0)\n",
    "opt_temp = np.array([295, 295])\n",
    "L = 0.8\n",
    "R = 0.2\n",
    "dr = 0.3 * area_list\n",
    "G,A,B=3.8,204,2.17"
   ]
  },
  {
   "cell_type": "markdown",
   "id": "5d623faa",
   "metadata": {},
   "source": [
    "### Helper functions for computations"
   ]
  },
  {
   "cell_type": "code",
   "execution_count": 3,
   "id": "35602d4d",
   "metadata": {},
   "outputs": [],
   "source": [
    "def calc_albedo():\n",
    "    return ((ar_arr*alb_arr).sum(axis = 1).reshape((10,1)) + (left_g*alb_g))/(area_list)"
   ]
  },
  {
   "cell_type": "code",
   "execution_count": 4,
   "id": "31b40299",
   "metadata": {},
   "outputs": [],
   "source": [
    "def update_ice():\n",
    "    for i in range((alb_planet.shape[0])):\n",
    "        alb_planet[i] = [0.6] if temp_arr[i] < 263.15 else alb_planet[i]"
   ]
  },
  {
   "cell_type": "code",
   "execution_count": 5,
   "id": "6b943037",
   "metadata": {},
   "outputs": [],
   "source": [
    "def fixed_pt_iteration(T, f, tol = 0.005):\n",
    "    while sum(abs(T - f(T))) > tol:\n",
    "        T = f(T)\n",
    "    return T\n",
    "\n",
    "def temp_fxn(T):\n",
    "    return ((L*S_list*(1 - alb_planet) - A + G*sum(((T-273.15)*area_list)))/(B+G)) + 273.15\n",
    "\n",
    "def mod_temp_fxn(T):\n",
    "    return ((L*S_list*(1 - alb_planet)) + G*(sum(((T-273.15)*area_list)) - T))**(0.25)/(5.67*10**(-8))"
   ]
  },
  {
   "cell_type": "code",
   "execution_count": 6,
   "id": "576ad7bc",
   "metadata": {},
   "outputs": [],
   "source": [
    "update = lambda x: max([x, 0.00001])\n",
    "vec_update = np.vectorize(update)\n",
    "update_perc = lambda x: max([x - 0.00001, 0])\n",
    "vec_update_perc = np.vectorize(update_perc)"
   ]
  },
  {
   "cell_type": "code",
   "execution_count": 7,
   "id": "bf17ea15",
   "metadata": {},
   "outputs": [],
   "source": [
    "def update_beta():\n",
    "    beta = (1 - 0.003265*(opt_temp - daisy_temp)**2)\n",
    "    mask_daisy = (daisy_temp <= 313.15)*(daisy_temp >= 278.15)\n",
    "    return beta*mask_daisy"
   ]
  },
  {
   "cell_type": "markdown",
   "id": "70bd3d71",
   "metadata": {},
   "source": [
    "### Iterate through timesteps and save data"
   ]
  },
  {
   "cell_type": "code",
   "execution_count": 8,
   "id": "427507c2",
   "metadata": {},
   "outputs": [
    {
     "name": "stderr",
     "output_type": "stream",
     "text": [
      "100%|██████████| 1000/1000 [13:22<00:00,  1.25it/s]\n"
     ]
    }
   ],
   "source": [
    "ind=0\n",
    "t_vals_inc = np.zeros((1000))\n",
    "ar_vals_inc = np.zeros((1000,10,2))\n",
    "for ind in tqdm(range(1000)):\n",
    "    L = 0.8 + ind/1000\n",
    "    for i in range(1000):\n",
    "        alb_planet = calc_albedo()\n",
    "        temp_arr = (L*S_list*(1 - alb_planet)/sigma)**0.25\n",
    "        temp_arr = fixed_pt_iteration(temp_arr, temp_fxn, 0.005)\n",
    "        daisy_temp = (R*L*S_list*(alb_planet - alb_arr)/sigma + (temp_arr**4))**(0.25)\n",
    "        beta = update_beta()\n",
    "        del_arr = ar_arr*(beta*(left_g) -  dr)\n",
    "        ar_arr += del_arr\n",
    "        ar_arr = vec_update(ar_arr)\n",
    "        left_g = area_list - ar_arr.sum(axis = 1).reshape((10,1))\n",
    "        for i in range(10):\n",
    "            left_g[i] = max(0, left_g[i])\n",
    "    perc_arr = ((ar_arr)/area_list)*100\n",
    "    ar_vals_inc[ind,:,:]= perc_arr\n",
    "    t_vals_inc[ind] = np.sum(temp_arr*area_list)"
   ]
  },
  {
   "cell_type": "code",
   "execution_count": 9,
   "id": "41bab730",
   "metadata": {},
   "outputs": [],
   "source": [
    "from numpy import save\n",
    "# define data\n",
    "# save to npy file\n",
    "save('ar_vals_inc.npy', ar_vals_inc)\n",
    "save('temp_vals_inc.npy', t_vals_inc)"
   ]
  },
  {
   "cell_type": "code",
   "execution_count": 10,
   "id": "b0acd17f",
   "metadata": {},
   "outputs": [
    {
     "name": "stderr",
     "output_type": "stream",
     "text": [
      "100%|██████████| 1000/1000 [13:30<00:00,  1.23it/s]\n"
     ]
    }
   ],
   "source": [
    "ind=0\n",
    "t_vals_dec = np.zeros((1000))\n",
    "ar_vals_dec = np.zeros((1000,10,2))\n",
    "for ind in tqdm(range(1000)):\n",
    "    L = 1.8 - ind/1000\n",
    "    for i in range(1000):\n",
    "        alb_planet = calc_albedo()\n",
    "        temp_arr = (L*S_list*(1 - alb_planet)/sigma)**0.25\n",
    "        temp_arr = fixed_pt_iteration(temp_arr, temp_fxn, 0.005)\n",
    "        daisy_temp = (R*L*S_list*(alb_planet - alb_arr)/sigma + (temp_arr**4))**(0.25)\n",
    "        beta = update_beta()\n",
    "        del_arr = ar_arr*(beta*(left_g) -  dr)\n",
    "        ar_arr += del_arr\n",
    "        ar_arr = vec_update(ar_arr)\n",
    "        left_g = area_list - ar_arr.sum(axis = 1).reshape((10,1))\n",
    "        for i in range(10):\n",
    "            left_g[i] = max(0, left_g[i])\n",
    "    perc_arr = ((ar_arr)/area_list)*100\n",
    "    ar_vals_dec[ind,:,:]= perc_arr\n",
    "    t_vals_dec[ind] = np.sum(temp_arr*area_list)"
   ]
  },
  {
   "cell_type": "code",
   "execution_count": 11,
   "id": "3398d3d9",
   "metadata": {},
   "outputs": [],
   "source": [
    "from numpy import save\n",
    "# define data\n",
    "# save to npy file\n",
    "save('ar_vals_dec.npy', ar_vals_dec)\n",
    "save('temp_vals_dec.npy', t_vals_dec)"
   ]
  },
  {
   "cell_type": "markdown",
   "id": "4b1ca3d7",
   "metadata": {},
   "source": [
    "## Interactive widget"
   ]
  },
  {
   "cell_type": "code",
   "execution_count": 12,
   "id": "e8eab38c",
   "metadata": {},
   "outputs": [],
   "source": [
    "import ipywidgets as widgets\n",
    "import matplotlib.pyplot as plt\n",
    "import numpy as np\n",
    "from IPython.display import display\n",
    "%matplotlib inline"
   ]
  },
  {
   "cell_type": "code",
   "execution_count": 13,
   "id": "c554f599",
   "metadata": {},
   "outputs": [],
   "source": [
    "ar_vals_inc = np.load('ar_vals_inc.npy')\n",
    "ar_vals_dec = np.load('ar_vals_dec.npy')\n",
    "inc_data = np.load(\"temp_vals_inc.npy\")\n",
    "dec_data = np.load(\"temp_vals_dec.npy\")"
   ]
  },
  {
   "cell_type": "code",
   "execution_count": 14,
   "id": "14cd83b2",
   "metadata": {},
   "outputs": [
    {
     "data": {
      "application/vnd.jupyter.widget-view+json": {
       "model_id": "546db73082a1422c8f4fd4d3de274432",
       "version_major": 2,
       "version_minor": 0
      },
      "text/plain": [
       "interactive(children=(FloatSlider(value=0.8, description='Luminosity', max=1.8, min=0.8, step=0.005), Dropdown…"
      ]
     },
     "metadata": {},
     "output_type": "display_data"
    }
   ],
   "source": [
    "@widgets.interact(\n",
    "    Series = [\"Increasing\", \"Decreasing\"], Luminosity = (0.8, 1.8, 0.005))\n",
    "def plot(Luminosity = 0.8 ,Series = \"Increasing\", grid=True):\n",
    "    \n",
    "    x = range(1, 11)\n",
    "    \n",
    "    if Series == \"Increasing\":\n",
    "        ind = int((Luminosity - 0.8)*999)\n",
    "    else:\n",
    "        ind = 999 - int((Luminosity - 0.8)*1000)\n",
    "    \n",
    "    perc_inc = ar_vals_inc[ind, :, :]\n",
    "    perc_dec = ar_vals_dec[ind, :, :]\n",
    "    \n",
    "    get_data = lambda ind: perc_inc if Series == \"Increasing\" else perc_dec\n",
    "    curr_temp = inc_data[ind] if Series == \"Increasing\" else dec_data[ind]\n",
    "\n",
    "    fig, (ax1, ax2) = plt.subplots(1, 2, figsize=(16, 6))\n",
    "    \n",
    "    fig.suptitle(\"Temperature - Luminosity plots across Ice Albedo Model\", fontsize = 'xx-large')\n",
    "    \n",
    "    ax1.set_ylim((0, 100))\n",
    "    perc_arr = get_data(ind)\n",
    "    \n",
    "    ax1.bar(range(1, 11), perc_arr[:, 1], color='k', label = \"Black Daisies\")\n",
    "    ax1.bar(range(1, 11), perc_arr[:, 0]+perc_arr[:, 1], bottom=perc_arr[:, 1], color='xkcd:sky blue', label = \"White Daisies\")\n",
    "    ax1.legend()\n",
    "    \n",
    "    ax2.plot(np.arange(0.8, 1.8, 0.001), inc_data, label = \"Increasing\")\n",
    "    ax2.plot(np.arange(1.8, 0.8, -0.001), dec_data, label = \"Decreasing\")\n",
    "    ax2.plot(Luminosity, curr_temp, marker=\"o\", markersize=7, label = f\"L = {Luminosity}, T = {round(curr_temp, 2)}K\")\n",
    "    ax2.legend()\n",
    "    \n",
    "    ax1.set_xticks(range(1,11))\n",
    "    ax1.set_yticks(range(0,101, 10))\n",
    "    ax1.set_xlabel(\"Latitude zones\", fontsize = 'large')\n",
    "    ax1.set_ylabel(\"%age coverage\", fontsize = 'large')\n",
    "    ax1.set_title(f\"{Series} Luminosity\", fontsize = 'x-large')\n",
    "    \n",
    "    ax2.set_xlabel(\"Luminosity\", fontsize = 'large')\n",
    "    ax2.set_ylabel(\"Temperature\", fontsize = 'large')\n",
    "    ax2.set_yticks(range(260, 370, 10))\n",
    "    ax2.set_title(f\"Overall Temperature vs. Luminosity\", fontsize = 'x-large')\n",
    "    \n",
    "    ax1.grid(grid)\n",
    "    ax2.grid(grid)"
   ]
  }
 ],
 "metadata": {
  "kernelspec": {
   "display_name": "Python 3",
   "language": "python",
   "name": "python3"
  },
  "language_info": {
   "codemirror_mode": {
    "name": "ipython",
    "version": 3
   },
   "file_extension": ".py",
   "mimetype": "text/x-python",
   "name": "python",
   "nbconvert_exporter": "python",
   "pygments_lexer": "ipython3",
   "version": "3.8.2"
  },
  "varInspector": {
   "cols": {
    "lenName": 16,
    "lenType": 16,
    "lenVar": 40
   },
   "kernels_config": {
    "python": {
     "delete_cmd_postfix": "",
     "delete_cmd_prefix": "del ",
     "library": "var_list.py",
     "varRefreshCmd": "print(var_dic_list())"
    },
    "r": {
     "delete_cmd_postfix": ") ",
     "delete_cmd_prefix": "rm(",
     "library": "var_list.r",
     "varRefreshCmd": "cat(var_dic_list()) "
    }
   },
   "types_to_exclude": [
    "module",
    "function",
    "builtin_function_or_method",
    "instance",
    "_Feature"
   ],
   "window_display": false
  }
 },
 "nbformat": 4,
 "nbformat_minor": 5
}
